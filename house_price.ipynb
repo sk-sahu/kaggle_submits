{
 "cells": [
  {
   "cell_type": "code",
   "execution_count": 2,
   "metadata": {
    "_cell_guid": "79c7e3d0-c299-4dcb-8224-4455121ee9b0",
    "_uuid": "d629ff2d2480ee46fbb7e2d37f6b5fab8052498a"
   },
   "outputs": [
    {
     "name": "stdout",
     "output_type": "stream",
     "text": [
      "[132500. 193700. 158000. ... 159590. 155800. 238950.]\n"
     ]
    },
    {
     "name": "stderr",
     "output_type": "stream",
     "text": [
      "/srv/conda/lib/python3.6/site-packages/sklearn/ensemble/forest.py:246: FutureWarning: The default value of n_estimators will change from 10 in version 0.20 to 100 in 0.22.\n",
      "  \"10 in version 0.20 to 100 in 0.22.\", FutureWarning)\n"
     ]
    }
   ],
   "source": [
    "import numpy as np\n",
    "import pandas as pd\n",
    "from sklearn.ensemble import RandomForestRegressor\n",
    "\n",
    "# Read the data\n",
    "train = pd.read_csv('./house_input/train.csv')\n",
    "\n",
    "# pull data into target (y) and predictors (X)\n",
    "train_y = train.SalePrice\n",
    "predictor_cols = ['LotArea', 'OverallQual', 'YearBuilt', 'TotRmsAbvGrd']\n",
    "\n",
    "# Create training predictors data\n",
    "train_X = train[predictor_cols]\n",
    "\n",
    "my_model = RandomForestRegressor()\n",
    "my_model.fit(train_X, train_y)\n",
    "\n",
    "# Read the test data\n",
    "test = pd.read_csv('./house_input/test.csv')\n",
    "# Treat the test data in the same way as training data. In this case, pull same columns.\n",
    "test_X = test[predictor_cols]\n",
    "# Use the model to make predictions\n",
    "predicted_prices = my_model.predict(test_X)\n",
    "# We will look at the predicted prices to ensure we have something sensible.\n",
    "print(predicted_prices)\n",
    "\n",
    "my_submission = pd.DataFrame({'Id': test.Id, 'SalePrice': predicted_prices})\n",
    "# you could use any filename. We choose submission here\n",
    "my_submission.to_csv('submission.csv', index=False)"
   ]
  },
  {
   "cell_type": "code",
   "execution_count": 3,
   "metadata": {},
   "outputs": [
    {
     "name": "stdout",
     "output_type": "stream",
     "text": [
      "        Id  SalePrice\n",
      "0     1461   132500.0\n",
      "1     1462   193700.0\n",
      "2     1463   158000.0\n",
      "3     1464   202350.0\n",
      "4     1465   196550.0\n",
      "5     1466   192500.0\n",
      "6     1467   170380.0\n",
      "7     1468   190050.0\n",
      "8     1469   194960.0\n",
      "9     1470   122850.0\n",
      "10    1471   202400.0\n",
      "11    1472    90440.0\n",
      "12    1473   112900.0\n",
      "13    1474   140700.0\n",
      "14    1475   170544.0\n",
      "15    1476   422041.8\n",
      "16    1477   325584.7\n",
      "17    1478   342539.3\n",
      "18    1479   320421.5\n",
      "19    1480   413669.7\n",
      "20    1481   287992.6\n",
      "21    1482   209310.0\n",
      "22    1483   186400.0\n",
      "23    1484   178805.0\n",
      "24    1485   228700.0\n",
      "25    1486   191948.0\n",
      "26    1487   319283.7\n",
      "27    1488   223980.0\n",
      "28    1489   196441.6\n",
      "29    1490   170993.0\n",
      "...    ...        ...\n",
      "1429  2890    72520.0\n",
      "1430  2891   149340.0\n",
      "1431  2892    76462.2\n",
      "1432  2893   131300.0\n",
      "1433  2894    74350.0\n",
      "1434  2895   249700.0\n",
      "1435  2896   237756.1\n",
      "1436  2897   209194.0\n",
      "1437  2898   162880.0\n",
      "1438  2899   237600.0\n",
      "1439  2900   168735.0\n",
      "1440  2901   209179.4\n",
      "1441  2902   189720.0\n",
      "1442  2903   312284.3\n",
      "1443  2904   340512.6\n",
      "1444  2905   124987.2\n",
      "1445  2906   218080.0\n",
      "1446  2907   117950.0\n",
      "1447  2908   137900.0\n",
      "1448  2909   156990.5\n",
      "1449  2910    81100.0\n",
      "1450  2911    86950.0\n",
      "1451  2912   164250.5\n",
      "1452  2913    90700.0\n",
      "1453  2914    89600.0\n",
      "1454  2915    87220.0\n",
      "1455  2916    81900.0\n",
      "1456  2917   159590.0\n",
      "1457  2918   155800.0\n",
      "1458  2919   238950.0\n",
      "\n",
      "[1459 rows x 2 columns]\n"
     ]
    }
   ],
   "source": [
    "print(my_submission)"
   ]
  },
  {
   "cell_type": "code",
   "execution_count": null,
   "metadata": {},
   "outputs": [],
   "source": []
  }
 ],
 "metadata": {
  "kernelspec": {
   "display_name": "Python 3",
   "language": "python",
   "name": "python3"
  },
  "language_info": {
   "codemirror_mode": {
    "name": "ipython",
    "version": 3
   },
   "file_extension": ".py",
   "mimetype": "text/x-python",
   "name": "python",
   "nbconvert_exporter": "python",
   "pygments_lexer": "ipython3",
   "version": "3.6.7"
  }
 },
 "nbformat": 4,
 "nbformat_minor": 1
}
